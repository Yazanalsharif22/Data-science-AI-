{
  "cells": [
    {
      "cell_type": "markdown",
      "metadata": {
        "id": "6876K7Oh2mL5"
      },
      "source": [
        "# Python Basics Exercises\n",
        "**By: Mhd Shadi Hasan**\n",
        "\n",
        "\n",
        "## EX 1 - Profit Calculator\n",
        "\n",
        "Write a Python program that the user can use to calculate total profits using the equation:\n",
        "\n",
        "$Total Profit = Total Revenue - Total Expenses$\n",
        "\n",
        "The program should do the following:\n",
        "1. Ask the user to insert their total revenue and total expenses values.\n",
        "2. Calculate the total profit.\n",
        "3. Display the three values in a tidy manner (e.g. Total Profit = 100 JOD)\n",
        "4. The program should be able to perform accurate calculations on any numerical values the user inputs.\n",
        "\n",
        "## EX 2 - Rate of Return Calculator\n",
        "\n",
        "It's the year 2024. Recent AI applications and innovations resulted in high demand on computer chips. This made the stock prices go up for chips companies. Company FANTASTIC CHIPS's stock price was $63.48 on Jan 1st, 2024. An investor wants a program that allows them to calculate what the rate of return will be at the end of 2024 for every expected future stock price that they input to the program. The rate of return equation is:\n",
        "\n",
        "$RR = \\frac{V_f - V_i}{V_i} \\times 100 \\%$\n",
        "\n",
        "The program should do the following:\n",
        "1. Ask the user to input their expectation of the future stock price.\n",
        "2. Calculate the rate of return.\n",
        "3. Print the rate of return as a percentage.\n",
        "4. Print True if their rate of return was positive and False if negative.\n",
        "\n",
        "## EX 3 - Strings\n",
        "\n",
        "Write a program that does the following:\n",
        "\n",
        "1. Ask the user to input their name, age, and city name.\n",
        "2. Print to the output:\n",
        "\n",
        "```\n",
        "Hello [user name],\n",
        "Happy birthday! You're [age] years old now :)\n",
        "Do you need to find a nice restaurant in [city name] to celebrate?\n",
        "```\n",
        "\n",
        "No matter how the user inserts this information, make sure that the user name and city name are both capitalized (i.e. only the first letter must be in uppercase).\n",
        "\n",
        "Use a single `print()` command. Hint: check the python print function documentation to figure out how to do it ;)\n",
        "\n",
        "**P.S. ALL CODE MUST BE CLEAN, READABLE, WELL EXPLAINED, AND FOLLOWS THE PEP 8 STYLE GUIDE.**\n",
        "\n",
        "Happy coding!!"
      ]
    },
    {
      "cell_type": "code",
      "execution_count": null,
      "metadata": {},
      "outputs": [
        {
          "name": "stdout",
          "output_type": "stream",
          "text": [
            "this is an f-string in python,it looks like this: \"f\"{var_name}\"\"\n",
            "yazan\n",
            "nazay\n"
          ]
        }
      ],
      "source": [
        "print('this is an f-string in python,it looks like this: \"f\"{var_name}\"\"')\n",
        "x=input('Enter the string')\n",
        "print(x)\n",
        "a=x[::-1]\n",
        "print(a)"
      ]
    },
    {
      "cell_type": "code",
      "execution_count": null,
      "metadata": {
        "id": "k5Q3ZB562YWf"
      },
      "outputs": [
        {
          "name": "stdout",
          "output_type": "stream",
          "text": [
            "Total Profit = 50.14 JOD \n",
            "Total Revenue = 70.64 JOd\n",
            "Total Expenses = 20.5 JOD\n"
          ]
        }
      ],
      "source": [
        "# EX 1\n",
        "totalRev=float(input('Enter the total revenue'))\n",
        "totalExp=float(input('Enter the total expenses'))\n",
        "\n",
        "toltalProfit=totalRev-totalExp \n",
        "\n",
        "print(f'Total Profit = {toltalProfit} JOD ',f'Total Revenue = {totalRev} JOd',f'Total Expenses = {totalExp} JOD',sep='\\n')\n",
        "\n"
      ]
    },
    {
      "cell_type": "code",
      "execution_count": null,
      "metadata": {
        "id": "LnkbB5U2D0Ss"
      },
      "outputs": [
        {
          "name": "stdout",
          "output_type": "stream",
          "text": [
            "Rate Of Returen = -21.24% \n",
            "False\n"
          ]
        }
      ],
      "source": [
        "# EX 2\n",
        "Vi=63.48\n",
        "Vf=float(input('Enter the expectation future stock'))\n",
        "\n",
        "RR=((Vf-Vi)/Vi)*100\n",
        "\n",
        "print(f'Rate Of Returen = {RR:.2f}% ')\n",
        "print(RR>0)"
      ]
    },
    {
      "cell_type": "code",
      "execution_count": 14,
      "metadata": {
        "id": "rFN-tHj-D1tt"
      },
      "outputs": [
        {
          "name": "stdout",
          "output_type": "stream",
          "text": [
            "Hello [Yazan]\n",
            "Happy birthday! You're [23] years old now :)\n",
            "Do you need to find a nice restaurant in [Amman] to celebrate?\n"
          ]
        }
      ],
      "source": [
        "# EX 3\n",
        "name=input('Enter Your Name')\n",
        "age=int(input('Enter Your Age'))\n",
        "cityName=input('Enter Your City Name')\n",
        "\n",
        "print(f'Hello [{name}]',f'Happy birthday! You\\'re [{age}] years old now :)',f'Do you need to find a nice restaurant in [{cityName}] to celebrate?',sep='\\n')\n",
        "\n"
      ]
    }
  ],
  "metadata": {
    "colab": {
      "provenance": []
    },
    "kernelspec": {
      "display_name": "base",
      "language": "python",
      "name": "python3"
    },
    "language_info": {
      "codemirror_mode": {
        "name": "ipython",
        "version": 3
      },
      "file_extension": ".py",
      "mimetype": "text/x-python",
      "name": "python",
      "nbconvert_exporter": "python",
      "pygments_lexer": "ipython3",
      "version": "3.12.4"
    }
  },
  "nbformat": 4,
  "nbformat_minor": 0
}
