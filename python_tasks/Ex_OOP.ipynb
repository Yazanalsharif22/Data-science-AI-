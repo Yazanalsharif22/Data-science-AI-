{
  "cells": [
    {
      "cell_type": "markdown",
      "metadata": {
        "id": "jw2vWAL1Dqy2"
      },
      "source": [
        "# OOP Exercises\n",
        "**By: Mhd Shadi Hasan**\n",
        "\n",
        "**Task 1:** Create a parent class `Shape` with a method `area` that returns 0. Then, create two child classes, `Rectangle` and `Circle`. `Rectangle` has attributes `width` and `height`, `Circle` has an attribute `radius`. Override the `area` method in both child classes to calculate the area correctly (use 3.14 as an approximation for pi).\n",
        "\n",
        "**Task 2:** Expand on the previous task. Add a method `print_info` to the `Shape` class that prints out the type of shape and its area. For each child class, override this method to print the shape type (rectangle or circle), its specific attributes (width and height for rectangles, radius for circles), and its area.\n",
        "\n",
        "**Task 3:** Create a class `BankAccount` with private attributes `__account_number` and `__balance`. Provide getter methods for both (get_account_number, get_balance), and methods to deposit and withdraw money. Ensure that the `withdraw` method checks if there is enough balance before withdrawing.\n",
        "\n",
        "**Task 4:** Create a base class `Animal` that has a method `speak()` which prints `\"I don't know what I say!\"`. Then create two derived classes `Dog` and `Cat` which override the `speak()` method. The `speak()` method in the `Dog` class should print `\"Woof Woof!\"` and the `speak()` method in the `Cat` class should print `\"Meow Meow!\"`.\n",
        "\n",
        "**Task 5:** Continuing from the above task, create a function `animal_speak(animal)` which accepts an `Animal` object and calls its `speak()` method. This demonstrates polymorphism because you can pass any object of a class derived from `Animal` to this function and it will work.\n",
        "\n",
        "**Task 6:** Create a class `Car` with two attributes: `color` (public) and `__speed` (private). The class should have methods `accelerate()` which increases the speed by 10 and `get_speed()` which returns the current speed. The `__speed` attribute should be modified only through the `accelerate()` method, demonstrating the principle of encapsulation.\n",
        "\n",
        "***\n",
        "\n",
        "**P.S. ALL CODE MUST BE CLEAN, READABLE, WELL EXPLAINED, AND FOLLOWS THE PEP 8 STYLE GUIDE.**\n",
        "\n",
        "Happy coding!!"
      ]
    },
    {
      "cell_type": "code",
      "execution_count": null,
      "metadata": {
        "id": "TiHOrRm_DkDD"
      },
      "outputs": [
        {
          "name": "stdout",
          "output_type": "stream",
          "text": [
            "Shape area = 0\n",
            "Rectangle area = 30\n",
            "Circle area = 31.40\n"
          ]
        }
      ],
      "source": [
        "#Task 1\n",
        "class Shape:\n",
        "\n",
        "    def area(self):\n",
        "        return 0\n",
        "    \n",
        "    def print_info(self):\n",
        "        print('Default Shape')\n",
        "\n",
        "class Rectangle(Shape):\n",
        "\n",
        "    def __init__(self,width:float=0,hight:float=0):\n",
        "        # super().__init__()\n",
        "        self.width=width\n",
        "        self.hight=hight\n",
        "        \n",
        "    def area(self)->float:\n",
        "        return self.width*self.hight\n",
        "    \n",
        "    def print_info(self):\n",
        "        print('Rectangle Shape')\n",
        "\n",
        "\n",
        "class Circle(Shape):\n",
        "    def __init__(self,width):\n",
        "        # super().__init__()\n",
        "        self.width=width\n",
        "        self.Pi=3.14\n",
        "\n",
        "    def area(self):\n",
        "        return self.width*self.Pi\n",
        "    \n",
        "    def print_info(self):\n",
        "        print('Circle Shape')\n",
        "\n",
        "\n",
        "  \n",
        "\n",
        "\n",
        "#create Shape object\n",
        "shape=Shape()\n",
        "print(f'Shape area = {shape.area()}')\n",
        "#create Rectangle object\n",
        "rect=Rectangle(5,6)\n",
        "print(f'Rectangle area = {rect.area()}')\n",
        "\n",
        "#create Circle object\n",
        "circle=Circle(10)\n",
        "print(f'Circle area = {circle.area():.2f}')"
      ]
    },
    {
      "cell_type": "code",
      "execution_count": null,
      "metadata": {},
      "outputs": [
        {
          "name": "stdout",
          "output_type": "stream",
          "text": [
            "Default Shape\n",
            "Rectangle Shape\n",
            "Circle Shape\n"
          ]
        }
      ],
      "source": [
        "#Task 2\n",
        "#Print the type of shape\n",
        "shape.print_info()\n",
        "rect.print_info()\n",
        "circle.print_info()"
      ]
    },
    {
      "cell_type": "code",
      "execution_count": 36,
      "metadata": {},
      "outputs": [
        {
          "name": "stdout",
          "output_type": "stream",
          "text": [
            "Case 1 : \n",
            "Account Number : 54542858\n",
            "Balanc : 10000\n",
            "Balanc After Deposit : 27500\n",
            "Balanc After Withdraw : 20000\n",
            "\n",
            "Case 2 : \n",
            "Account Number : 25456873\n",
            "Balanc : 14000\n",
            "Balanc After Deposit : 31500\n",
            "Ther is no enough money to withdraw\n"
          ]
        }
      ],
      "source": [
        "#Task 3\n",
        "\n",
        "class BankAccount():\n",
        "\n",
        "    def __init__(self,account_number:str=\"\",balance:float=0):\n",
        "        self.__account_number=account_number\n",
        "        self.__balance=balance\n",
        "\n",
        "    def get_account_number(self)->str:\n",
        "        return self.__account_number\n",
        "    \n",
        "    def get_balance(self)->str:\n",
        "        return self.__balance\n",
        "    \n",
        "    def deposit(self,dep:float):\n",
        "        self.__balance+=dep\n",
        "\n",
        "    def withdraw(self,withd:float):\n",
        "        if self.__balance-withd<=0:\n",
        "            return False\n",
        "        else:\n",
        "            self.__balance-=withd\n",
        "            return True\n",
        "        \n",
        "\n",
        "\n",
        "print(\"Case 1 : \")\n",
        "account=BankAccount(\"54542858\",10000)\n",
        "\n",
        "print(f'Account Number : {account.get_account_number()}')\n",
        "    \n",
        "print(f'Balanc : {account.get_balance()}')\n",
        "\n",
        "account.deposit(17500)\n",
        "print(f'Balanc After Deposit : {account.get_balance()}')\n",
        "\n",
        "check=account.withdraw(7500)\n",
        "if check:\n",
        "    print(f'Balanc After Withdraw : {account.get_balance()}\\n')\n",
        "else:\n",
        "    print(f'Ther is no enough money to withdraw')\n",
        "\n",
        "\n",
        "print(\"Case 2 : \")\n",
        "account=BankAccount(\"25456873\",14000)\n",
        "\n",
        "print(f'Account Number : {account.get_account_number()}')\n",
        "    \n",
        "print(f'Balanc : {account.get_balance()}')\n",
        "\n",
        "account.deposit(17500)\n",
        "print(f'Balanc After Deposit : {account.get_balance()}')\n",
        "\n",
        "check=account.withdraw(37500)\n",
        "if check:\n",
        "    print(f'Balanc After Withdraw : {account.get_balance()}')\n",
        "else:\n",
        "    print(f'Ther is no enough money to withdraw')\n"
      ]
    },
    {
      "cell_type": "code",
      "execution_count": 3,
      "metadata": {},
      "outputs": [
        {
          "name": "stdout",
          "output_type": "stream",
          "text": [
            "I don't Know what I say!\n",
            "\n",
            "Woof Woof!\n",
            "\n",
            "Meow Meow!\n"
          ]
        }
      ],
      "source": [
        "# Task 4\n",
        "\n",
        "class Animal():\n",
        "\n",
        "    def speak(slef):\n",
        "        print(\"I don't Know what I say!\")\n",
        "\n",
        "class Dog(Animal):\n",
        "     \n",
        "     def speak(self):\n",
        "        print(\"Woof Woof!\")\n",
        "\n",
        "\n",
        "class Cat(Animal):\n",
        "     \n",
        "     def speak(self):\n",
        "        print(\"Meow Meow!\")\n",
        "\n",
        "\n",
        "animal=Animal()\n",
        "animal.speak()\n",
        "print()\n",
        "dog=Dog()\n",
        "dog.speak()\n",
        "print()\n",
        "cat=Cat()\n",
        "cat.speak()"
      ]
    },
    {
      "cell_type": "code",
      "execution_count": 4,
      "metadata": {},
      "outputs": [
        {
          "name": "stdout",
          "output_type": "stream",
          "text": [
            "I don't Know what I say!\n",
            "Woof Woof!\n",
            "Meow Meow!\n"
          ]
        }
      ],
      "source": [
        "#Task 5\n",
        "def animal_speak(a):\n",
        "    a.speak()\n",
        "\n",
        "animal_speak(animal)\n",
        "animal_speak(dog)\n",
        "animal_speak(cat)"
      ]
    },
    {
      "cell_type": "code",
      "execution_count": 8,
      "metadata": {},
      "outputs": [
        {
          "name": "stdout",
          "output_type": "stream",
          "text": [
            "The Current Car Speed : 90\n",
            "The Car Speed after increasing acceleration : 100\n"
          ]
        }
      ],
      "source": [
        "class Car():\n",
        "    def __init__(self,color:str=\"\" ,speed:int=0):\n",
        "        self.color=color\n",
        "        self.__speed=speed\n",
        "\n",
        "    def accelerate(self):\n",
        "        self.__speed+=10\n",
        "\n",
        "        \n",
        "    def get_speed(self)->int:\n",
        "        return self.__speed\n",
        "\n",
        "\n",
        "\n",
        "\n",
        "car=Car(\"black\",90)\n",
        "\n",
        "print(f\"The Current Car Speed : {car.get_speed()}\")\n",
        "\n",
        "car.accelerate()\n",
        "print(f\"The Car Speed after increasing acceleration : {car.get_speed()}\")\n",
        "    "
      ]
    }
  ],
  "metadata": {
    "colab": {
      "provenance": []
    },
    "kernelspec": {
      "display_name": "Python 3",
      "name": "python3"
    },
    "language_info": {
      "codemirror_mode": {
        "name": "ipython",
        "version": 3
      },
      "file_extension": ".py",
      "mimetype": "text/x-python",
      "name": "python",
      "nbconvert_exporter": "python",
      "pygments_lexer": "ipython3",
      "version": "3.13.5"
    }
  },
  "nbformat": 4,
  "nbformat_minor": 0
}
