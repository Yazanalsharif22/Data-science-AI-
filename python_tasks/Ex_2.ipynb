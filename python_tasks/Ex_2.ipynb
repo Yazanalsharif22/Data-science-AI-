{
  "cells": [
    {
      "cell_type": "markdown",
      "metadata": {
        "id": "Im6C6hMpIAh_"
      },
      "source": [
        "# Python Basics II Exercises\n",
        "\n",
        "\n",
        "## EX 1 - Data Structures\n",
        "\n",
        "**Strings**:\n",
        "   1. Write a function to count the number of vowels in a given string.\n",
        "   2. Write a function that takes a string and returns the same string but with every second letter capitalized.\n",
        "\n",
        "**List**:\n",
        "   3. Write a function that takes a list of numbers and returns a new list containing only the even numbers.\n",
        "   4. Write a function that takes a list and returns a new list with duplicate values removed.\n",
        "\n",
        "**Set**:\n",
        "   5. Write a function that takes two sets and returns their intersection as a new set.\n",
        "   6. Write a function that takes two sets and returns their union as a new set.\n",
        "\n",
        "**Tuple**:\n",
        "   7. Write a function that takes a list of tuples and sorts them based on the second element of each tuple.\n",
        "   8. Write a function that takes a tuple and returns a reversed version of that tuple.\n",
        "\n",
        "**Dictionary**:\n",
        "   9. Write a function that takes a dictionary and returns the keys and values as separate lists.\n",
        "   10. Write a function that takes a dictionary and a key, and if the key exists in the dictionary, return its value. If the key does not exist, return a default value.\n",
        "\n",
        "## EX 2 - Conditional Statements, Loops, and Functions\n",
        "\n",
        "**Task 1:** Write a program that takes two numbers as inputs from the user and prints their sum.\n",
        "\n",
        "**Task 2:** Write a program that takes an integer input from the user. Use a `for` loop to print all numbers from that integer down to 0.\n",
        "\n",
        "**Task 3:** Write a program that takes an integer input from the user. Use a `while` loop to keep doubling the number until it is greater than 1000, then print the result.\n",
        "\n",
        "**Task 4:** Write a function that takes a number as input and returns the square of the number. Use it in a program that takes an input from the user and prints the square.\n",
        "\n",
        "**Task 5:** Write a program that takes a number as input from the user. If the number is greater than 10, print \"Big number\". If the number is less than or equal to 10, print \"Small number\".\n",
        "\n",
        "**Task 6:** Write a function that takes two numbers as inputs and returns their product. Use this function in a program that takes two inputs from the user and prints the product.\n",
        "\n",
        "**Task 7:** Write a program that uses a `while` loop to take a number as input from the user, subtract 5, and print the result. Continue this until the result is less than 0.\n",
        "\n",
        "**Task 8:** Write a program that uses a `for` loop to take an integer input from the user and print the factorial of that number.\n",
        "\n",
        "**Task 9:** Write a program that takes a number as input from the user. If the number is positive, print \"Positive\". If the number is negative, print \"Negative\". If the number is zero, print \"Zero\".\n",
        "\n",
        "**Task 10:** Write a lambda function that takes two numbers as inputs and returns their division as a floating-point number. Use this function in a program that takes two inputs from the user and prints the division.\n",
        "\n",
        "***\n",
        "\n",
        "**P.S. ALL CODE MUST BE CLEAN, READABLE, WELL EXPLAINED, AND FOLLOWS THE PEP 8 STYLE GUIDE.**\n",
        "\n",
        "Happy coding!!"
      ]
    },
    {
      "cell_type": "code",
      "execution_count": 2,
      "metadata": {
        "id": "TrvnuxuZIMXC"
      },
      "outputs": [
        {
          "name": "stdout",
          "output_type": "stream",
          "text": [
            "0\n"
          ]
        }
      ],
      "source": [
        "#EX1\n",
        "#Task 1\n",
        "\n",
        "def countVowels(s)->str:\n",
        "    vowels=\"aoueiAOUEI\"#vowels letter\n",
        "    c=0\n",
        "    for char in s:\n",
        "        if char in vowels:#check if letter is vowel or not\n",
        "            c+=1#increment counter  \n",
        "    return c\n",
        "\n",
        "\n",
        "\n",
        "a=input(\"Enter The String\")\n",
        "print(countVowels(a))"
      ]
    },
    {
      "cell_type": "code",
      "execution_count": null,
      "metadata": {},
      "outputs": [
        {
          "name": "stdout",
          "output_type": "stream",
          "text": [
            "dSfgb \n"
          ]
        }
      ],
      "source": [
        "#EX1\n",
        "#Task 2\n",
        "def capitalizes_sec_char(s)->str: \n",
        "    words=s.split(\" \")#split each word into list of strings\n",
        "    a=\"\" #to store all letters as string after capitalize every secoend letter\n",
        "\n",
        "    for string in words:  #iterate on all words\n",
        "\n",
        "        for i in range(len(string)):\n",
        "            if i==1:#convert each seceond letters into upper\n",
        "                a+=string[i].upper()\n",
        "            else:    \n",
        "                a+=string[i]\n",
        "        a+=\" \" #add spaces between words\n",
        "\n",
        "    return a\n",
        "\n",
        "a=input(\"Enter The String\")\n",
        "print(capitalizes_sec_char(a))\n",
        "\n"
      ]
    },
    {
      "cell_type": "code",
      "execution_count": null,
      "metadata": {},
      "outputs": [
        {
          "name": "stdout",
          "output_type": "stream",
          "text": [
            "[4, 6, 10]\n"
          ]
        }
      ],
      "source": [
        "#EX1\n",
        "#Task 3\n",
        "def evenNum(lst)->list:\n",
        "    new_lst=[]#new list to store even number \n",
        "    for num in lst:\n",
        "        if num%2==0:#check the number is even or not\n",
        "            new_lst.append(num)#add the number in the end of list\n",
        "\n",
        "    return new_lst\n",
        "\n",
        "\n",
        "\n",
        "lst=[4,5,6,7,8.9,10]\n",
        "print(evenNum(lst))\n"
      ]
    },
    {
      "cell_type": "code",
      "execution_count": null,
      "metadata": {},
      "outputs": [
        {
          "name": "stdout",
          "output_type": "stream",
          "text": [
            "[4]\n",
            "[5, 6, 7, 8]\n"
          ]
        }
      ],
      "source": [
        "#EX1\n",
        "#Task 4\n",
        "\n",
        "#veeeeeeeeeeeeeeeeeeeeeeeeeeeeeeeeeeeeeeeeery bad implementation\n",
        "# def duplicateNum(lst)->list:#very bad implementation\n",
        "#     new_lst=[]#new list to store duplicate number \n",
        "\n",
        "    \n",
        "#     for i in range(len(lst)):\n",
        "#         for j in range(len(lst)):\n",
        "#             if j==i:\n",
        "#                 continue\n",
        "#             if lst[j]==lst[i] :#check the number is duplicate or not or not\n",
        "#               if lst[j] not in new_lst:\n",
        "#                 new_lst.append(lst[i])#add the number in the end of list\n",
        "                \n",
        "#     return new_lst\n",
        "\n",
        "\n",
        "def duplicateNum(lst)->list:#very bad implementation\n",
        "    new_lst=[]#new list to store duplicated number \n",
        "    \n",
        "    for num in lst :\n",
        "        c=lst.count(num)\n",
        "        if c>1:\n",
        "            if num not in new_lst:\n",
        "                new_lst.append(num)\n",
        "    \n",
        "    # #delete the duplicated number from the list\n",
        "    # for num in new_lst:\n",
        "    #     while num in lst:\n",
        "    #         lst.remove(num)\n",
        "        \n",
        "    return new_lst\n",
        "\n",
        "\n",
        "lst=[4,5,6,7,8,5,8,7,7,6]\n",
        "a=duplicateNum(lst)\n",
        "print(a)"
      ]
    },
    {
      "cell_type": "code",
      "execution_count": null,
      "metadata": {},
      "outputs": [
        {
          "name": "stdout",
          "output_type": "stream",
          "text": [
            "{1, 10, 9, 7}\n"
          ]
        }
      ],
      "source": [
        "#EX1\n",
        "#Task 5\n",
        "def intersection(set_1,set_2)->set:\n",
        "     new_set=set()\n",
        "     #set_1.intersection(set_2)\n",
        "     for num in set_1:\n",
        "        for num_1 in set_2:\n",
        "            if num==num_1:\n",
        "                new_set.add(num)\n",
        "\n",
        "     return new_set\n",
        "\n",
        "\n",
        "set_1={1,5,6,7,8,9,10}\n",
        "set_2={1,3,4,11,7,9,10,15}\n",
        "a=intersection(set_1,set_2)\n",
        "print(a)\n"
      ]
    },
    {
      "cell_type": "code",
      "execution_count": null,
      "metadata": {},
      "outputs": [
        {
          "name": "stdout",
          "output_type": "stream",
          "text": [
            "{1, 3, 4, 5, 6, 7, 8, 9, 10, 11, 12, 15}\n"
          ]
        }
      ],
      "source": [
        "#EX1\n",
        "#Task 6\n",
        "def union(set_1,set_2)->set:\n",
        "     return set_1|set_2\n",
        "\n",
        "\n",
        "set_1={1,5,6,7,8,9,10,12}\n",
        "set_2={1,3,4,11,7,9,10,15}\n",
        "a=union(set_1,set_2)\n",
        "print(a)\n"
      ]
    },
    {
      "cell_type": "code",
      "execution_count": null,
      "metadata": {},
      "outputs": [
        {
          "name": "stdout",
          "output_type": "stream",
          "text": [
            "[(5, 2, 7), (9, 6, 7), (10, 13, 14, 8), (5, 156, 7)]\n"
          ]
        }
      ],
      "source": [
        "#EX1\n",
        "#Task 7\n",
        "def sort_tuple(lst)->list:\n",
        "    for i in range(len(l)):#bubble sort based in seconed element\n",
        "        for j in range(len(l)-1):\n",
        "            if l[j][1]>l[j+1][1]:\n",
        "                l[j],l[j+1]=l[j+1] ,l[j]\n",
        "    return lst\n",
        "\n",
        "\n",
        "\n",
        "\n",
        "\n",
        "\n",
        "\n",
        "\n",
        "l=[(5,156,7),(10,13,14,8),(9,6,7),(5,2,7)]\n",
        "a=sort_tuple(l)\n",
        "print(a)\n",
        "\n"
      ]
    },
    {
      "cell_type": "code",
      "execution_count": null,
      "metadata": {},
      "outputs": [
        {
          "name": "stdout",
          "output_type": "stream",
          "text": [
            "(7, 156, 5)\n"
          ]
        }
      ],
      "source": [
        "#EX1\n",
        "#Task 8\n",
        "def reversed_tuple(tup)->tuple:\n",
        "    reversed_tuple=tup[::-1]\n",
        "    return reversed_tuple\n",
        "\n",
        "\n",
        "\n",
        "\n",
        "\n",
        "l=(5,156,7)\n",
        "\n",
        "a=reversed_tuple(l)\n",
        "print(a)\n"
      ]
    },
    {
      "cell_type": "code",
      "execution_count": null,
      "metadata": {},
      "outputs": [
        {
          "name": "stdout",
          "output_type": "stream",
          "text": [
            "[['name', 'yazan'], ['age', 23]]\n"
          ]
        }
      ],
      "source": [
        "#EX1\n",
        "#Task 9\n",
        "def keys(dic)->list:\n",
        "    lst=[]\n",
        "    for key,val in dic.items():\n",
        "        lst.append([key,val])\n",
        "    return lst\n",
        "\n",
        "\n",
        "\n",
        "dic={\"name\":\"yazan\",\n",
        "     'age':23}\n",
        "a=keys(dic)\n",
        "print(a)"
      ]
    },
    {
      "cell_type": "code",
      "execution_count": null,
      "metadata": {},
      "outputs": [
        {
          "name": "stdout",
          "output_type": "stream",
          "text": [
            "If the key exist\n",
            "======> a\n",
            "If the key not exist\n",
            "======> a\n"
          ]
        }
      ],
      "source": [
        "#EX1\n",
        "#Task 10\n",
        "\n",
        "def keys(dic,key)->str:\n",
        "    value=\"defult value\"\n",
        "    for key1 in dic:\n",
        "        if key==key1:\n",
        "            value=dic[key]\n",
        "\n",
        "       \n",
        "    return value \n",
        "\n",
        "\n",
        "dic={\"name\":\"yazan\",\n",
        "     'age':23}\n",
        "print(\"If the key exist\")\n",
        "a=keys(dic,\"name\")\n",
        "print(f\"======> a\")\n",
        "\n",
        "\n",
        "print(\"If the key not exist\")\n",
        "\n",
        "a=keys(dic,\"price\")\n",
        "print(f\"======> a\")\n",
        "\n"
      ]
    },
    {
      "cell_type": "code",
      "execution_count": 210,
      "metadata": {},
      "outputs": [
        {
          "name": "stdout",
          "output_type": "stream",
          "text": [
            " the sum = 24.0\n"
          ]
        }
      ],
      "source": [
        "#EX2\n",
        "#Task 1\n",
        "\n",
        "\n",
        "num_1=input(\"Enter first number : \")\n",
        "num_2=input(\"Enter secoend number : \")\n",
        "if '.' in num_1 and '.'in num_2:\n",
        "    num_1=float(num_1)\n",
        "    num_2=float(num_2)\n",
        "elif '.' in num_1 :\n",
        "    num_1=float(num_1)\n",
        "    num_2=int(num_2)\n",
        "\n",
        "elif '.' in num_2:\n",
        "    num_1=float(num_1)\n",
        "    num_2=float(num_2)\n",
        "else:\n",
        "    num_1=int(num_1)\n",
        "    num_2=int(num_2)\n",
        "\n",
        "sum=num_1+num_2\n",
        "print(f\" the sum = {sum}\")\n"
      ]
    },
    {
      "cell_type": "code",
      "execution_count": null,
      "metadata": {},
      "outputs": [
        {
          "name": "stdout",
          "output_type": "stream",
          "text": [
            "10\n",
            "9\n",
            "8\n",
            "7\n",
            "6\n",
            "5\n",
            "4\n",
            "3\n",
            "2\n",
            "1\n",
            "0\n"
          ]
        }
      ],
      "source": [
        "#EX2\n",
        "#Task 2\n",
        "\n",
        "num=int(input(\"Enter The number : \"))\n",
        "\n",
        "for i in range(num,-1,-1):\n",
        "    print(i)"
      ]
    },
    {
      "cell_type": "code",
      "execution_count": null,
      "metadata": {},
      "outputs": [
        {
          "name": "stdout",
          "output_type": "stream",
          "text": [
            "number = 1536\n"
          ]
        }
      ],
      "source": [
        "#EX2\n",
        "#Task 3\n",
        "num=int(input(\"Enter The number : \"))\n",
        "while num<=1000:\n",
        "    num*=2\n",
        "\n",
        "\n",
        "print(f\"number = {num}\")"
      ]
    },
    {
      "cell_type": "code",
      "execution_count": 16,
      "metadata": {},
      "outputs": [
        {
          "name": "stdout",
          "output_type": "stream",
          "text": [
            "number = 25\n"
          ]
        }
      ],
      "source": [
        "#EX2\n",
        "#Task 4\n",
        "def square(a:int)->int:\n",
        "    return a**2\n",
        "\n",
        "\n",
        "\n",
        "num=int(input(\"Enter The number : \"))\n",
        "\n",
        "\n",
        "print(f\"number = {square(num)}\")"
      ]
    },
    {
      "cell_type": "code",
      "execution_count": 20,
      "metadata": {},
      "outputs": [
        {
          "name": "stdout",
          "output_type": "stream",
          "text": [
            "Big Number\n"
          ]
        }
      ],
      "source": [
        "#EX2\n",
        "#Task 5\n",
        "\n",
        "num=int(input(\"Enter The number : \"))\n",
        "if num>10:\n",
        "    print(\"Big Number\")\n",
        "else :\n",
        "    print(\"Small Number\")\n",
        "\n"
      ]
    },
    {
      "cell_type": "code",
      "execution_count": 22,
      "metadata": {},
      "outputs": [
        {
          "name": "stdout",
          "output_type": "stream",
          "text": [
            "number = 42\n"
          ]
        }
      ],
      "source": [
        "#EX2\n",
        "#Task 6\n",
        "def product(a:int,b:int)->int:\n",
        "    return a*b\n",
        "\n",
        "\n",
        "\n",
        "num_1=int(input(\"Enter First number : \"))\n",
        "num_2=int(input(\"Enter Second number : \"))\n",
        "\n",
        "print(f\"number = {product(num_1,num_2)}\")"
      ]
    },
    {
      "cell_type": "code",
      "execution_count": null,
      "metadata": {},
      "outputs": [
        {
          "name": "stdout",
          "output_type": "stream",
          "text": [
            "number = 45\n",
            "number = 40\n",
            "number = 35\n",
            "number = 30\n",
            "number = 25\n",
            "number = 20\n",
            "number = 15\n",
            "number = 10\n",
            "number = 5\n",
            "number = 0\n"
          ]
        }
      ],
      "source": [
        "#EX2\n",
        "#Task 7\n",
        "\n",
        "num=int(input(\"Enter The number : \"))\n",
        "\n",
        "while num>0:\n",
        "    num-=5\n",
        "    print(f\"number = {num}\")\n",
        "\n"
      ]
    },
    {
      "cell_type": "code",
      "execution_count": null,
      "metadata": {},
      "outputs": [
        {
          "name": "stdout",
          "output_type": "stream",
          "text": [
            "number = 1\n"
          ]
        }
      ],
      "source": [
        "#EX2\n",
        "#Task 8\n",
        "factorial=int(input(\"Enter The number : \"))\n",
        "\n",
        "\n",
        "if factorial==0:\n",
        "    factorial=1\n",
        "#The Rule of factorial is ==> n*(n-1)*(n-2)*(n-3)......*(1)\n",
        "for i in range(1,factorial) :\n",
        "    factorial=factorial*i\n",
        "\n",
        "\n",
        "    \n",
        "print(f\"number = {factorial}\")"
      ]
    },
    {
      "cell_type": "code",
      "execution_count": 34,
      "metadata": {},
      "outputs": [
        {
          "name": "stdout",
          "output_type": "stream",
          "text": [
            "Negative\n"
          ]
        }
      ],
      "source": [
        "#EX2\n",
        "#Task 9\n",
        "\n",
        "num=int(input(\"Enter The number : \"))\n",
        "\n",
        "if num>0:\n",
        "    print(\"Positive\")\n",
        "elif num==0:\n",
        "    print(\"Zero\")\n",
        "else:\n",
        "    print(\"Negative\")\n",
        "    "
      ]
    },
    {
      "cell_type": "code",
      "execution_count": 35,
      "metadata": {},
      "outputs": [
        {
          "name": "stdout",
          "output_type": "stream",
          "text": [
            "number = 5.0\n"
          ]
        }
      ],
      "source": [
        "#EX2\n",
        "#Task 10\n",
        "\n",
        "\n",
        "div=lambda a,b:a/b\n",
        "\n",
        "num_1=int(input(\"Enter First number : \"))\n",
        "num_2=int(input(\"Enter Second number : \"))\n",
        "\n",
        "print(f\"number = {div(num_1,num_2)}\")"
      ]
    }
  ],
  "metadata": {
    "colab": {
      "provenance": []
    },
    "kernelspec": {
      "display_name": "Python 3",
      "name": "python3"
    },
    "language_info": {
      "codemirror_mode": {
        "name": "ipython",
        "version": 3
      },
      "file_extension": ".py",
      "mimetype": "text/x-python",
      "name": "python",
      "nbconvert_exporter": "python",
      "pygments_lexer": "ipython3",
      "version": "3.13.5"
    }
  },
  "nbformat": 4,
  "nbformat_minor": 0
}
