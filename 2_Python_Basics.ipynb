{
  "nbformat": 4,
  "nbformat_minor": 0,
  "metadata": {
    "colab": {
      "provenance": [],
      "collapsed_sections": [
        "lMrwLJQL5vwY",
        "JFBDGE5T9RPG",
        "63B_YXqY5usE",
        "otpCvUa7CBqf",
        "5EHs9VMDDPza",
        "NSQcm0zZHo3q",
        "ss9WGTw9JEVM",
        "488YRsEJJqXy",
        "r_nlALVvKNyt",
        "u_hMiFg8O92t",
        "RTDZt-RELRln"
      ]
    },
    "kernelspec": {
      "name": "python3",
      "display_name": "Python 3"
    },
    "language_info": {
      "name": "python"
    }
  },
  "cells": [
    {
      "cell_type": "markdown",
      "source": [
        "# Python Basics\n",
        "\n",
        "This Notebook includes the code snippets for basic Python. This includes the following contents:\n",
        "\n",
        "* print()\n",
        "* Comments and docstrings\n",
        "* Variables and assignment\n",
        "* Data Types\n",
        "* CRUD Operations\n",
        "* Casting\n",
        "* Arithmetic operations\n",
        "* Comparison operations\n",
        "* Logic operations\n",
        "* Order of operations\n",
        "* User input\n",
        "* Format\n",
        "* String operations\n",
        "\n"
      ],
      "metadata": {
        "id": "m9NFqxtz5AEl"
      }
    },
    {
      "cell_type": "markdown",
      "source": [
        "# print()\n"
      ],
      "metadata": {
        "id": "lMrwLJQL5vwY"
      }
    },
    {
      "cell_type": "markdown",
      "source": [
        "* Let us start our Python journey with the famous Hello World! program. The goal of this program is to print out to standard output the phrase \"Hello World!\". To do so, just pass what you want to print in a `print()` function."
      ],
      "metadata": {
        "id": "Fn_09dEgDBR5"
      }
    },
    {
      "cell_type": "code",
      "source": [
        "print(\"Hello World!\")"
      ],
      "metadata": {
        "id": "NxYhQzvE5-c3"
      },
      "execution_count": null,
      "outputs": []
    },
    {
      "cell_type": "markdown",
      "source": [
        "\n",
        "\n",
        "---\n",
        "\n",
        "Task #1\n",
        "\n",
        "Use the print function to display your name, age, and favorite color on separate lines.\n",
        "\n",
        "\n",
        "---\n",
        "\n"
      ],
      "metadata": {
        "id": "ME9laIAy8W1Q"
      }
    },
    {
      "cell_type": "code",
      "source": [],
      "metadata": {
        "id": "xJ6A5Xyn8V1C"
      },
      "execution_count": null,
      "outputs": []
    },
    {
      "cell_type": "markdown",
      "source": [
        "# Comments and docstrings"
      ],
      "metadata": {
        "id": "JFBDGE5T9RPG"
      }
    },
    {
      "cell_type": "markdown",
      "source": [
        "- In Python, comments are a way to include notes or explanations in your code that are ignored by the Python interpreter when the code runs.\n",
        "\n",
        "- Comments and docstrings are used to make our code more readable and easy to understand.\n",
        "\n",
        "- They’re useful for documenting what your code is doing, making it easier for others (or yourself) to understand it later.\n",
        "\n",
        "- Comments can be on separate lines or inline with code. For inline comments, PEP 8 recommends keeping two spaces.\n",
        "\n",
        "- Docstrings are used mainly for documenting functions, classes, and modules."
      ],
      "metadata": {
        "id": "bPispOb7DIEm"
      }
    },
    {
      "cell_type": "code",
      "source": [
        "# this line of code will print \"Hello World!\" to the output\n",
        "print(\"Hello World!\")"
      ],
      "metadata": {
        "id": "qh-IyWg1-f_I"
      },
      "execution_count": null,
      "outputs": []
    },
    {
      "cell_type": "code",
      "source": [
        "# if your comment is too long\n",
        "# use multiple lines"
      ],
      "metadata": {
        "id": "s1nETlB_-g-n"
      },
      "execution_count": null,
      "outputs": []
    },
    {
      "cell_type": "code",
      "source": [
        "\"\"\"\n",
        "This is a multi-line comment\n",
        "spanning multiple lines.\n",
        "It is actually a multi-line string\n",
        "that is not assigned to any variable.\n",
        "\"\"\"\n",
        "print(23)"
      ],
      "metadata": {
        "id": "AJqCZ_3h-0HZ"
      },
      "execution_count": null,
      "outputs": []
    },
    {
      "cell_type": "code",
      "source": [
        "def welcome(name):\n",
        "  \"\"\"Print welcome note to the output.\"\"\"\n",
        "\n",
        "  print(f\"Hello {name}\")\n",
        "\n",
        "welcome(\"Shadi\")"
      ],
      "metadata": {
        "id": "mDpy2HBO-mtv"
      },
      "execution_count": null,
      "outputs": []
    },
    {
      "cell_type": "code",
      "source": [
        "print(help(welcome))"
      ],
      "metadata": {
        "id": "AhZe8kM0-sot"
      },
      "execution_count": null,
      "outputs": []
    },
    {
      "cell_type": "markdown",
      "source": [
        "# Variables and assignment\n",
        "\n"
      ],
      "metadata": {
        "id": "63B_YXqY5usE"
      }
    },
    {
      "cell_type": "markdown",
      "source": [
        "* A variable is essentially a named storage location in memory where you can store a value. You can think of it as a label for a piece of data.\n",
        "\n",
        "* Variables allow you to work with data dynamically and make your code more flexible and reusable.\n",
        "\n",
        "* Variables are created when a value is assigned to them. **Assignment** is done using the `=` operator.\n",
        "\n",
        "`Syntax => \"variable Nmae\" \"Assignment Operator\" \"value\"`"
      ],
      "metadata": {
        "id": "5v0LLCWhM9sT"
      }
    },
    {
      "cell_type": "code",
      "source": [
        "# How to store your things in a variable\n",
        "message = \"Hello my wonderful students, how are you?\"\n",
        "\n",
        "print(message) # now we are using message variable instead of passing the text directly"
      ],
      "metadata": {
        "id": "4kbLo_7A7CNU"
      },
      "execution_count": null,
      "outputs": []
    },
    {
      "cell_type": "markdown",
      "source": [
        "**Variable Naming Rules:**\n",
        "\n",
        "1) Variable names must start with a letter (a-z, A-Z), an underscore (_), and numbers (**not at the beginning**).\n",
        "\n",
        "2) Variable names are case-sensitive (i.e. `name` is not the same as `NAME`)\n",
        "\n",
        "3) Variable names can not be Python special keywords (True, class, def, return, etc).\n",
        "\n",
        "4) Variable names can include Special Characters (@, $, - , etc).\n",
        "\n",
        "5) It is preferable that the variable name has a relation to the value."
      ],
      "metadata": {
        "id": "hVlKhF1X613I"
      }
    },
    {
      "cell_type": "markdown",
      "source": [
        "**Accepted variable names:**"
      ],
      "metadata": {
        "id": "-B2hlhBS_LxH"
      }
    },
    {
      "cell_type": "code",
      "execution_count": null,
      "metadata": {
        "id": "K3KECsxk4rh7"
      },
      "outputs": [],
      "source": [
        "myname = \"Shadi\"\n",
        "my_name = \"Shadi\"\n",
        "_my_name = \"Shadi\"\n",
        "myName = \"Shadi\"\n",
        "MYNAME = \"Shadi\"\n",
        "myname1 = \"Shadi\""
      ]
    },
    {
      "cell_type": "markdown",
      "source": [
        "**Unaccepted variable names:**"
      ],
      "metadata": {
        "id": "upx9hlWO_bP3"
      }
    },
    {
      "cell_type": "code",
      "source": [
        "2myname = \"Shadi\"     # Starts with a number\n",
        "my-name = \"Shadi\"     # Contains a hyphen (Special Character)\n",
        "my name = \"Shadi\"     # Contains a space (Special Character)\n",
        "my_name$ = \"Shadi\"    # Contains a dollar sign (Special Character)\n",
        "for = \"Shadi\"         # Uses a Python keyword\n",
        "True = \"Math\"         # Uses a Python keyword"
      ],
      "metadata": {
        "id": "nCtSuOuF_eY5"
      },
      "execution_count": null,
      "outputs": []
    },
    {
      "cell_type": "code",
      "source": [
        "# To know the reserved words:\n",
        "help(\"keywords\")"
      ],
      "metadata": {
        "id": "SB_rzUUcAH9n"
      },
      "execution_count": null,
      "outputs": []
    },
    {
      "cell_type": "code",
      "source": [
        "# It is preferable that the variable name has a relation to the value.\n",
        "\n",
        "age = 10              # age is a variable holding the integer value 10\n",
        "name = \"Batool\"       # name is a variable holding the string \"Batool\"\n",
        "temperature = 23.5    # temperature is a variable holding the float value 23.5"
      ],
      "metadata": {
        "id": "yN74IST8AQLy"
      },
      "execution_count": null,
      "outputs": []
    },
    {
      "cell_type": "markdown",
      "source": [
        "**Constants**\n",
        "\n",
        "While Python does not have built-in constant types, a common convention is to use uppercase variable names to indicate that a value should not be changed."
      ],
      "metadata": {
        "id": "h9169qgSAfxa"
      }
    },
    {
      "cell_type": "code",
      "source": [
        "PI = 3.14 #constant"
      ],
      "metadata": {
        "id": "zpxz1FG7_Fwo"
      },
      "execution_count": null,
      "outputs": []
    },
    {
      "cell_type": "markdown",
      "source": [
        "Multiple variables can be created at once. This is most commonly used when unpacking or when a function returnes multiple values."
      ],
      "metadata": {
        "id": "hSkxOjj-Ap-s"
      }
    },
    {
      "cell_type": "code",
      "source": [
        "v1, v2, v3 = 1, 2, 3\n",
        "v4, v5 = (4, 5)\n",
        "\n",
        "print(v1)\n",
        "print(v2, v3)\n",
        "print(v4)\n",
        "print(v5)"
      ],
      "metadata": {
        "id": "xttwWlXIAq-7"
      },
      "execution_count": null,
      "outputs": []
    },
    {
      "cell_type": "markdown",
      "source": [
        "The common cases for naming are:\n",
        "\n",
        "* camelCase\n",
        "* PascalCase\n",
        "* snake_case\n",
        "* UPPERCASE\n",
        "\n",
        "All of theses cases can me used to name a variable. However, PEP 8 style guide recommends using snake_case to name variables."
      ],
      "metadata": {
        "id": "2HZRx7T6BBfb"
      }
    },
    {
      "cell_type": "markdown",
      "source": [
        "\n",
        "\n",
        "---\n",
        "\n",
        "Task #2:\n",
        "Create a height variable\n",
        "\n",
        "\n",
        "---\n",
        "\n"
      ],
      "metadata": {
        "id": "2VEaAwo8BJmA"
      }
    },
    {
      "cell_type": "code",
      "source": [],
      "metadata": {
        "id": "Jjjb83qLMxWu"
      },
      "execution_count": null,
      "outputs": []
    },
    {
      "cell_type": "markdown",
      "source": [
        "# Data Types"
      ],
      "metadata": {
        "id": "otpCvUa7CBqf"
      }
    },
    {
      "cell_type": "markdown",
      "source": [
        "* Integer\n",
        "\n",
        "  An integer is a whole number, positive or negative, without any decimal point.\n",
        "\n",
        "* Float\n",
        "\n",
        "  A float is a number with a decimal point.\n",
        "\n",
        "* Boolean\n",
        "\n",
        "  A boolean value represents True or False.\n",
        "\n",
        "\n",
        "* String\n",
        "  \n",
        "  A string is a sequence of characters enclosed in quotes."
      ],
      "metadata": {
        "id": "4O8JuUDjDN6N"
      }
    },
    {
      "cell_type": "code",
      "source": [
        "int_var_1 = 1\n",
        "int_var_2 = -1\n",
        "\n",
        "float_var_1 = -2.4\n",
        "float_var_2 = 5.0\n",
        "\n",
        "bool_var_1 = False\n",
        "bool_var_2 = True\n",
        "\n",
        "string_var_1 = \"S\"\n",
        "string_var_2 = 'this is a string'"
      ],
      "metadata": {
        "id": "aKqYObNgAzqO"
      },
      "execution_count": null,
      "outputs": []
    },
    {
      "cell_type": "code",
      "source": [
        "print(bool_var_1)\n",
        "print(float_var_2)"
      ],
      "metadata": {
        "id": "T6TsUdd5CeG4"
      },
      "execution_count": null,
      "outputs": []
    },
    {
      "cell_type": "markdown",
      "source": [
        "# CRUD Operations"
      ],
      "metadata": {
        "id": "5EHs9VMDDPza"
      }
    },
    {
      "cell_type": "markdown",
      "source": [
        "## Integer\n",
        "*   Create:  ` age = 30`\n",
        "*   Read:     `print(age)`\n",
        "*   Update:   `age = 31`\n",
        "*   Delete:   `del age`"
      ],
      "metadata": {
        "id": "BhUd9EVzDaU0"
      }
    },
    {
      "cell_type": "code",
      "source": [
        "number_of_students = 35          # Create\n",
        "print(number_of_students)        # Read\n",
        "\n",
        "number_of_students = 40          # Update\n",
        "print(number_of_students)        # Read\n",
        "\n",
        "del number_of_students           # Delete\n",
        "print(number_of_students)        # Read"
      ],
      "metadata": {
        "id": "Pd6Bo5ZZFOkl"
      },
      "execution_count": null,
      "outputs": []
    },
    {
      "cell_type": "markdown",
      "source": [
        "## Float\n",
        "*   Create:  ` temperature = 99.5`\n",
        "*   Read:     `print(temperature)`\n",
        "*   Update:   `temperature = 100.0`\n",
        "*   Delete:   `del temperature`"
      ],
      "metadata": {
        "id": "TCYlKXpkEt9H"
      }
    },
    {
      "cell_type": "code",
      "source": [
        "weight = 52.5        # Create\n",
        "print(weight)        # Read\n",
        "\n",
        "weight = 65.8        # Update\n",
        "print(weight)        # Read\n",
        "\n",
        "del weight           # Delete\n",
        "print(weight)        # Read"
      ],
      "metadata": {
        "id": "PjTJlWzNFGz1"
      },
      "execution_count": null,
      "outputs": []
    },
    {
      "cell_type": "markdown",
      "source": [
        "## String\n",
        "*   Create:  ` name = \"Leen\"`\n",
        "*   Read:     `print(name)`\n",
        "*   Update:   `name = \"Lama\"`\n",
        "*   Delete:   `del name`"
      ],
      "metadata": {
        "id": "rIq8XzTIGAYS"
      }
    },
    {
      "cell_type": "code",
      "source": [
        "city_name = \"Irbid\"     # Create\n",
        "print(city_name)        # Read\n",
        "\n",
        "city_name = \"Amman\"     # Update\n",
        "print(city_name)        # Read\n",
        "\n",
        "del city_name           # Delete\n",
        "print(city_name)        # Read"
      ],
      "metadata": {
        "id": "KE-BlLxRCe3K"
      },
      "execution_count": null,
      "outputs": []
    },
    {
      "cell_type": "markdown",
      "source": [
        "## Boolean\n",
        "*   Create:  ` is_raining = False`\n",
        "*   Read:     `print(is_raining)`\n",
        "*   Update:   `is_raining = True`\n",
        "*   Delete:   `del is_raining`"
      ],
      "metadata": {
        "id": "NWRBacD7GZir"
      }
    },
    {
      "cell_type": "code",
      "source": [
        "is_happy = False     # Create\n",
        "print(is_happy)        # Read\n",
        "\n",
        "is_happy = True     # Update\n",
        "print(is_happy)        # Read\n",
        "\n",
        "del is_happy           # Delete\n",
        "print(is_happy)        # Read"
      ],
      "metadata": {
        "id": "WCmTgQKGGs9N"
      },
      "execution_count": null,
      "outputs": []
    },
    {
      "cell_type": "markdown",
      "source": [
        "# Casting"
      ],
      "metadata": {
        "id": "NSQcm0zZHo3q"
      }
    },
    {
      "cell_type": "markdown",
      "source": [
        "You can change the type of a value or variable using casting. However, you must be careful as some casting operations result in errors or loss of information."
      ],
      "metadata": {
        "id": "nH3mfeFPKe4L"
      }
    },
    {
      "cell_type": "code",
      "source": [
        "# To find the type of variable we use:\n",
        "type()"
      ],
      "metadata": {
        "id": "i48LkbEEH_fx"
      },
      "execution_count": null,
      "outputs": []
    },
    {
      "cell_type": "code",
      "source": [
        "x = 10\n",
        "print(type(x))"
      ],
      "metadata": {
        "id": "sPCmiSkfISsF"
      },
      "execution_count": null,
      "outputs": []
    },
    {
      "cell_type": "code",
      "source": [
        "Number_of_Students = 32\n",
        "print(\"The Type of 'Number_of_Students' varaiable is\", type(Number_of_Students))"
      ],
      "metadata": {
        "id": "2SdFXTXLIKfX"
      },
      "execution_count": null,
      "outputs": []
    },
    {
      "cell_type": "code",
      "source": [
        "int_var = 1\n",
        "print(int_var, type(int_var))\n",
        "\n",
        "int_var = float(int_var)\n",
        "print(int_var, type(int_var))"
      ],
      "metadata": {
        "id": "NeIP-kdpIZ6S"
      },
      "execution_count": null,
      "outputs": []
    },
    {
      "cell_type": "code",
      "source": [
        "int_to_str = str(1)\n",
        "print(int_to_str, type(int_to_str))"
      ],
      "metadata": {
        "id": "j-S98wErIcIV"
      },
      "execution_count": null,
      "outputs": []
    },
    {
      "cell_type": "code",
      "source": [
        "str_to_int = int(\"2\")\n",
        "print(str_to_int, type(str_to_int))"
      ],
      "metadata": {
        "id": "pL6WnerIId-N"
      },
      "execution_count": null,
      "outputs": []
    },
    {
      "cell_type": "code",
      "source": [
        "str_to_int_2 = int(\"A\")\n",
        "print(str_to_int_2, type(str_to_int_2))"
      ],
      "metadata": {
        "id": "TOFGI8W1IhDn"
      },
      "execution_count": null,
      "outputs": []
    },
    {
      "cell_type": "code",
      "source": [
        "float_to_int = int(2.7)\n",
        "print(float_to_int, type(float_to_int))"
      ],
      "metadata": {
        "id": "eEz-5iyyIjll"
      },
      "execution_count": null,
      "outputs": []
    },
    {
      "cell_type": "code",
      "source": [
        "bool_to_int = int(True)\n",
        "print(bool_to_int, type(bool_to_int))"
      ],
      "metadata": {
        "id": "REgB-sBmInWA"
      },
      "execution_count": null,
      "outputs": []
    },
    {
      "cell_type": "markdown",
      "source": [
        "\n",
        "\n",
        "---\n",
        "\n",
        "Task #3\n",
        "\n",
        " Write a Python program that declares the following variables and prints their types:\n",
        "\n",
        "*   An integer variable called number_of_apples with the value 10.\n",
        "*   A float variable called pi_value with the value 3.14.\n",
        "*   A boolean variable called is_sunny with the value True.\n",
        "*   A string variable called greeting with the value \"Good morning\".\n",
        "\n",
        "\n",
        "---\n",
        "\n"
      ],
      "metadata": {
        "id": "BfUFpRnRMgVH"
      }
    },
    {
      "cell_type": "markdown",
      "source": [
        "# Arithmetic operations\n",
        "\n"
      ],
      "metadata": {
        "id": "ss9WGTw9JEVM"
      }
    },
    {
      "cell_type": "markdown",
      "source": [
        "These operations are performed using arithmetic operators:\n",
        "\n",
        "* Addition `+`\n",
        "* Subtraction `-`\n",
        "* Multiplication `*`\n",
        "* Division `/`  (returns a float)\n",
        "* Modulus `%`\n",
        "* Floor division `//`  (returns an integer)\n",
        "* Exponentiation `**`\n",
        "\n",
        "These operations can be performed on numbers. They can also be performed on variables of numerical values."
      ],
      "metadata": {
        "id": "z8VNXaWuKZ5q"
      }
    },
    {
      "cell_type": "code",
      "source": [
        "num_1, num_2 = 5, 2\n",
        "\n",
        "print(num_1 - num_2)\n",
        "print(num_1 ** num_2)\n",
        "\n",
        "sum = num_1 + num_2\n",
        "\n",
        "print(sum)"
      ],
      "metadata": {
        "id": "uTTlXrOSJhZz"
      },
      "execution_count": null,
      "outputs": []
    },
    {
      "cell_type": "code",
      "source": [
        "x = 450\n",
        "x += 100   # x = x+100\n",
        "x"
      ],
      "metadata": {
        "id": "YnMkYt9PJxGU"
      },
      "execution_count": null,
      "outputs": []
    },
    {
      "cell_type": "code",
      "source": [
        "x = 5\n",
        "x -=  2         # Abbreviation for (x = x - 2)\n",
        "print (x)"
      ],
      "metadata": {
        "id": "ToVaXjlpJ0S4"
      },
      "execution_count": null,
      "outputs": []
    },
    {
      "cell_type": "code",
      "source": [
        "# x *= 100 --> x = x * 100"
      ],
      "metadata": {
        "id": "mWRKXXiBJ2OV"
      },
      "execution_count": null,
      "outputs": []
    },
    {
      "cell_type": "markdown",
      "source": [
        "# Comparison operations"
      ],
      "metadata": {
        "id": "488YRsEJJqXy"
      }
    },
    {
      "cell_type": "markdown",
      "source": [
        "The result from these operations is a boolean value, and they are performed by the use of the following operators:\n",
        "\n",
        "* Equal `==`\n",
        "* Not equal `!=`\n",
        "* Greater than `>`\n",
        "* Less than `<`\n",
        "* Greater than or equal to `>=`\n",
        "* Less than or equal to `<=`\n",
        "\n",
        "These operations can be performed on numbers. They can also be performed on variables of numerical values."
      ],
      "metadata": {
        "id": "BqEqpTSWKkeg"
      }
    },
    {
      "cell_type": "code",
      "source": [
        "print(5 == 5)   # Equal operator                       prints: True\n",
        "print(5 != 5)   # Not equal operator                   prints: False\n",
        "print(5 <  6)   # Less than operator                   prints: True\n",
        "print(5 >  4)   # Greater than operator                prints: True\n",
        "print(5 <= 5)   # Less than or equal to operator       prints: True\n",
        "print(5 >= 6)   # Greater than or equal to operator    prints: False"
      ],
      "metadata": {
        "id": "OcKBlsbBKJQs"
      },
      "execution_count": null,
      "outputs": []
    },
    {
      "cell_type": "code",
      "source": [
        "num_1, num_2 = 3.9, 12.1\n",
        "\n",
        "print(num_1 < num_2)\n",
        "print(num_1 == num_2)\n",
        "\n",
        "result = num_1 >= num_2\n",
        "\n",
        "print(result)"
      ],
      "metadata": {
        "id": "_9uqvgN3KMsa"
      },
      "execution_count": null,
      "outputs": []
    },
    {
      "cell_type": "markdown",
      "source": [
        "# Logic operations\n",
        "\n"
      ],
      "metadata": {
        "id": "r_nlALVvKNyt"
      }
    },
    {
      "cell_type": "markdown",
      "source": [
        "The logic operators are three:\n",
        "\n",
        "* `and`\n",
        "* `or`\n",
        "* `not`\n",
        "\n",
        "These operators are used with boolean values and return a result of True or False according to the following truth tables:\n",
        "\n",
        "| Operator| First value | Second value | Result |\n",
        "|---|---|---|---|\n",
        "| `and` | True | True | True |\n",
        "| | True | False | False |\n",
        "| | False | True | False |\n",
        "| | False | False | False |\n",
        "| `or` | True | True | True |\n",
        "| | True | False | True |\n",
        "| | False | True | True |\n",
        "| | False | False | False |\n",
        "| `not` | True | - | False |\n",
        "| | False | - | True |"
      ],
      "metadata": {
        "id": "4Z7J-LCXKonp"
      }
    },
    {
      "cell_type": "code",
      "source": [
        "# and\n",
        "print(True and True)\n",
        "print(True and False)\n",
        "\n",
        "# or\n",
        "print(False or False)\n",
        "print(False or True)\n",
        "\n",
        "# not\n",
        "print(not True)"
      ],
      "metadata": {
        "id": "Rxa9yitGKT27"
      },
      "execution_count": null,
      "outputs": []
    },
    {
      "cell_type": "code",
      "source": [
        "years_of_experience = 1  # try: 1, 7, 2, 5, 3, 4.5\n",
        "\n",
        "min = 2\n",
        "max = 5\n",
        "\n",
        "fit_for_job = years_of_experience >= min and years_of_experience <= max\n",
        "\n",
        "print(\"Fit for job:\", fit_for_job)"
      ],
      "metadata": {
        "id": "OyOcu3BAK-YK"
      },
      "execution_count": null,
      "outputs": []
    },
    {
      "cell_type": "markdown",
      "source": [
        "# Order of Operations"
      ],
      "metadata": {
        "id": "u_hMiFg8O92t"
      }
    },
    {
      "cell_type": "markdown",
      "source": [
        "The order of operations in Python is somewhat similar to math. The introduced operators above have the following order of priorities:\n",
        "\n",
        "1. Parentheses `( )`\n",
        "2. Exponentiation `**`\n",
        "3. Multiplication, division, floor division, and modulus `*` `/` `//` `%`\n",
        "4. Addition and subtraction `+` `-`\n",
        "5. Comparisons `==` `!=` `>` `>=` `<` `<=`\n",
        "6. Logical `not`\n",
        "7. Logical `and`\n",
        "8. Logical `or`\n"
      ],
      "metadata": {
        "id": "UdV49d5CPOiA"
      }
    },
    {
      "cell_type": "code",
      "source": [
        "2 ** (1 + 1) + 1 * 2 < 7 and not 2 != 2 or not True"
      ],
      "metadata": {
        "id": "SCHXJkwOQqr8"
      },
      "execution_count": null,
      "outputs": []
    },
    {
      "cell_type": "markdown",
      "source": [
        "# User input\n",
        "\n"
      ],
      "metadata": {
        "id": "RTDZt-RELRln"
      }
    },
    {
      "cell_type": "markdown",
      "source": [
        "* It is important to write programs that deal with input data. Input data might come from different sources, including user input, database, file system, among others.\n",
        "\n",
        "* Here we will deal with the simple case of processing input from the user.\n",
        "* The input function reads a line from the user and returns it as a string."
      ],
      "metadata": {
        "id": "XB5f116QLari"
      }
    },
    {
      "cell_type": "code",
      "source": [
        "salary = input(\"Enter your salary: \")\n",
        "print(salary)\n",
        "print(type(salary))"
      ],
      "metadata": {
        "id": "LsTpDuliLiuk"
      },
      "execution_count": null,
      "outputs": []
    },
    {
      "cell_type": "code",
      "source": [
        "salary = int(input(\"Enter your salary: \"))\n",
        "print(salary + 100)"
      ],
      "metadata": {
        "id": "kNVB24TbLssd"
      },
      "execution_count": null,
      "outputs": []
    },
    {
      "cell_type": "code",
      "source": [
        "salary = input(\"Enter your salary: \")\n",
        "print(int(salary) + 100)"
      ],
      "metadata": {
        "id": "TGi70jRhLwAm"
      },
      "execution_count": null,
      "outputs": []
    },
    {
      "cell_type": "code",
      "source": [
        "Name = input(\"Enter your name : \")\n",
        "Salary = input(\"Enter your salary : \")\n",
        "update_salary = int(Salary) + 100\n",
        "print(\"my name is\", Name, \"and salary\", update_salary)"
      ],
      "metadata": {
        "id": "cj6B_bcpL3rJ"
      },
      "execution_count": null,
      "outputs": []
    },
    {
      "cell_type": "markdown",
      "source": [
        "\n",
        "\n",
        "---\n",
        "\n",
        "Task #5:\n",
        "\n",
        "Write a program that asks the user for their name and age, and then prints out a message addressed to them that tells them how many years they have until they turn 100.\n",
        "\n",
        "---\n",
        "\n"
      ],
      "metadata": {
        "id": "3lCqsESNRrG3"
      }
    },
    {
      "cell_type": "code",
      "source": [],
      "metadata": {
        "id": "syEEWrLMR3kS"
      },
      "execution_count": null,
      "outputs": []
    },
    {
      "cell_type": "markdown",
      "source": [
        "# Good Job 🚀"
      ],
      "metadata": {
        "id": "baavYg71oS4n"
      }
    }
  ]
}